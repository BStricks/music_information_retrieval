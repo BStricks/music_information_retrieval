{
  "nbformat": 4,
  "nbformat_minor": 0,
  "metadata": {
    "colab": {
      "name": "music_webscrape.ipynb",
      "provenance": [],
      "collapsed_sections": [],
      "include_colab_link": true
    },
    "kernelspec": {
      "name": "python3",
      "display_name": "Python 3"
    },
    "accelerator": "GPU"
  },
  "cells": [
    {
      "cell_type": "markdown",
      "metadata": {
        "id": "view-in-github",
        "colab_type": "text"
      },
      "source": [
        "<a href=\"https://colab.research.google.com/github/BStricks/music_information_retrieval/blob/master/music_webscrape.ipynb\" target=\"_parent\"><img src=\"https://colab.research.google.com/assets/colab-badge.svg\" alt=\"Open In Colab\"/></a>"
      ]
    },
    {
      "cell_type": "markdown",
      "metadata": {
        "id": "nxsbXsrFojHs",
        "colab_type": "text"
      },
      "source": [
        "# Web scraping the album review corpus\n",
        "\n",
        "The primary purpose of this script is to crawl the pitchfork.com website for all album reviews and download the review text into a dataframe along with the artist and album name attributes. This methodology can be extended to include multiple other domains e.g. amazon reviews, rolling stone etc.\n",
        "\n",
        "The secondary purpose was to trial a document matching algorithm on the newly created corpus; using a range of matching techniques the aim is to match a user's natuaral language query with the most appropriate album. \n",
        "\n"
      ]
    },
    {
      "cell_type": "markdown",
      "metadata": {
        "id": "jrMFbZgGqZy5",
        "colab_type": "text"
      },
      "source": [
        "# Section 1: web scraping"
      ]
    },
    {
      "cell_type": "code",
      "metadata": {
        "id": "VxCUMWqSUJcM",
        "colab_type": "code",
        "outputId": "0686ba81-661a-4637-d5fb-d9f5b87d1e54",
        "colab": {
          "base_uri": "https://localhost:8080/",
          "height": 142
        }
      },
      "source": [
        "###mount drive\n",
        "from google.colab import drive\n",
        "drive.mount('/content/gdrive')\n",
        "\n",
        "###change directory\n",
        "%cd gdrive/My Drive/Colab Notebooks/album_reviews"
      ],
      "execution_count": 0,
      "outputs": [
        {
          "output_type": "stream",
          "text": [
            "Go to this URL in a browser: https://accounts.google.com/o/oauth2/auth?client_id=947318989803-6bn6qk8qdgf4n4g3pfee6491hc0brc4i.apps.googleusercontent.com&redirect_uri=urn%3Aietf%3Awg%3Aoauth%3A2.0%3Aoob&scope=email%20https%3A%2F%2Fwww.googleapis.com%2Fauth%2Fdocs.test%20https%3A%2F%2Fwww.googleapis.com%2Fauth%2Fdrive%20https%3A%2F%2Fwww.googleapis.com%2Fauth%2Fdrive.photos.readonly%20https%3A%2F%2Fwww.googleapis.com%2Fauth%2Fpeopleapi.readonly&response_type=code\n",
            "\n",
            "Enter your authorization code:\n",
            "··········\n",
            "Mounted at /content/gdrive\n",
            "/content/gdrive/My Drive/Colab Notebooks/album_reviews\n"
          ],
          "name": "stdout"
        }
      ]
    },
    {
      "cell_type": "code",
      "metadata": {
        "id": "MGqpZUym6uHJ",
        "colab_type": "code",
        "outputId": "add867a9-2caf-403d-a3fa-5cfbb85a2be9",
        "colab": {
          "base_uri": "https://localhost:8080/",
          "height": 140
        }
      },
      "source": [
        "###libraries\n",
        "import requests\n",
        "from bs4 import BeautifulSoup\n",
        "import pandas as pd \n",
        "import numpy as np\n",
        "import pickle\n",
        "!wget -c \"https://s3.amazonaws.com/dl4j-distribution/GoogleNews-vectors-negative300.bin.gz\""
      ],
      "execution_count": 0,
      "outputs": [
        {
          "output_type": "stream",
          "text": [
            "--2019-09-27 06:48:26--  https://s3.amazonaws.com/dl4j-distribution/GoogleNews-vectors-negative300.bin.gz\n",
            "Resolving s3.amazonaws.com (s3.amazonaws.com)... 52.216.86.69\n",
            "Connecting to s3.amazonaws.com (s3.amazonaws.com)|52.216.86.69|:443... connected.\n",
            "HTTP request sent, awaiting response... 416 Requested Range Not Satisfiable\n",
            "\n",
            "    The file is already fully retrieved; nothing to do.\n",
            "\n"
          ],
          "name": "stdout"
        }
      ]
    },
    {
      "cell_type": "markdown",
      "metadata": {
        "id": "Hbf5fJN5mOGI",
        "colab_type": "text"
      },
      "source": [
        "## Pitchfork scrape"
      ]
    },
    {
      "cell_type": "code",
      "metadata": {
        "id": "P9iLsRmI7dQS",
        "colab_type": "code",
        "colab": {}
      },
      "source": [
        "###webpages to scrape\n",
        "pagelist = []\n",
        "for i in range(1, 1000):\n",
        "  pagelist.append('https://pitchfork.com/reviews/albums/?page='+str(i))\n",
        "\n",
        "###create table for hyperlinks\n",
        "master_table_pitchfork = pd.DataFrame(columns=['href', 'artist', 'album'])\n",
        "\n",
        "###function to scrape hyperlinks and extract artist/album tags\n",
        "for i in pagelist:\n",
        "\n",
        "  page = requests.get(i)\n",
        "  soup = BeautifulSoup(page.text, 'html.parser').find_all('div', attrs={\"class\":\"review\"})\n",
        "\n",
        "  for div in soup:\n",
        "    href = ['https://pitchfork.com/'+div.find('a',attrs={\"class\":\"review__link\"})['href']]\n",
        "    artist = [div.find('li').text]\n",
        "    album = [div.find('h2').text]\n",
        "\n",
        "    new_table = pd.DataFrame(\n",
        "        {'href': href,\n",
        "        'artist': artist,\n",
        "        'album': album\n",
        "        })\n",
        "\n",
        "    master_table_pitchfork = master_table_pitchfork.append(new_table)"
      ],
      "execution_count": 0,
      "outputs": []
    },
    {
      "cell_type": "code",
      "metadata": {
        "id": "LxgvxfElmS70",
        "colab_type": "code",
        "outputId": "7946169e-1458-41e6-a95e-2d2a4b88b086",
        "colab": {
          "base_uri": "https://localhost:8080/",
          "height": 34
        }
      },
      "source": [
        "print(len(master_table_pitchfork))\n",
        "outfile = open('master_table_pitchfork','wb')\n",
        "pickle.dump(master_table_pitchfork,outfile)\n",
        "outfile.close()"
      ],
      "execution_count": 0,
      "outputs": [
        {
          "output_type": "stream",
          "text": [
            "11988\n"
          ],
          "name": "stdout"
        }
      ]
    },
    {
      "cell_type": "code",
      "metadata": {
        "id": "JkqH2Aj1fGwS",
        "colab_type": "code",
        "outputId": "6097f697-c36b-4d59-9dd0-8b78271312f4",
        "colab": {
          "base_uri": "https://localhost:8080/",
          "height": 34
        }
      },
      "source": [
        "pickle_in = open(\"master_table_pitchfork\",\"rb\")\n",
        "master_table_pitchfork = pickle.load(pickle_in)\n",
        "print(len(master_table_pitchfork))"
      ],
      "execution_count": 0,
      "outputs": [
        {
          "output_type": "stream",
          "text": [
            "11988\n"
          ],
          "name": "stdout"
        }
      ]
    },
    {
      "cell_type": "code",
      "metadata": {
        "colab_type": "code",
        "id": "CA3MaBPWMfkz",
        "colab": {}
      },
      "source": [
        "###scrape webpage for album review text\n",
        "review_text = []\n",
        "\n",
        "for i in range(0,11988):\n",
        "  \n",
        "  href = master_table_pitchfork.iloc[i][0]\n",
        "  page = requests.get(href)\n",
        "\n",
        "  if not page:\n",
        "    review_text.append(\"NULL\")\n",
        "\n",
        "  else: \n",
        "    soup = BeautifulSoup(page.text, 'html.parser').find_all('div', attrs={\"class\":\"contents\"})\n",
        "  \n",
        "    for div in soup:\n",
        "    \n",
        "      if div.text:\n",
        "        review_text.append(div.text)"
      ],
      "execution_count": 0,
      "outputs": []
    },
    {
      "cell_type": "code",
      "metadata": {
        "id": "nqOCbFFGHMrg",
        "colab_type": "code",
        "colab": {}
      },
      "source": [
        "master_table_pitchfork = master_table_pitchfork.assign(review_text=review_text)"
      ],
      "execution_count": 0,
      "outputs": []
    },
    {
      "cell_type": "code",
      "metadata": {
        "id": "n4szGwVioQtb",
        "colab_type": "code",
        "colab": {}
      },
      "source": [
        "outfile = open('master_table_pitchfork','wb')\n",
        "pickle.dump(master_table_pitchfork,outfile)\n",
        "outfile.close()"
      ],
      "execution_count": 0,
      "outputs": []
    },
    {
      "cell_type": "code",
      "metadata": {
        "id": "TmLOGdw_oY4a",
        "colab_type": "code",
        "colab": {}
      },
      "source": [
        "pickle_in = open(\"master_table_pitchfork\",\"rb\")\n",
        "master_table_pitchfork = pickle.load(pickle_in)\n",
        "print(len(master_table_pitchfork))"
      ],
      "execution_count": 0,
      "outputs": []
    },
    {
      "cell_type": "markdown",
      "metadata": {
        "id": "9294pxEDmgvL",
        "colab_type": "text"
      },
      "source": [
        "## NME scrape"
      ]
    },
    {
      "cell_type": "code",
      "metadata": {
        "id": "clpebcswmjsx",
        "colab_type": "code",
        "colab": {}
      },
      "source": [
        "###webpages to scrape\n",
        "pagelist = []\n",
        "for i in range(0, 150):\n",
        "  pagelist.append('https://www.nme.com/reviews/album/page/'+str(i))\n",
        "\n",
        "###create table for hyperlinks\n",
        "master_table_nme = pd.DataFrame(columns=['href', 'artist','album'])\n",
        "href = []\n",
        "artist = []\n",
        "album = []\n",
        "###function to scrape hyperlinks and extract artist/album tags\n",
        "for i in pagelist:\n",
        "\n",
        "  page = requests.get(i)\n",
        "  soup = BeautifulSoup(page.text, 'html.parser').find_all('li', attrs={\"class\":\"listing-item\"})\n",
        "\n",
        "  for s in soup:\n",
        "    \n",
        "    for a in s.find_all('a'):\n",
        "      href.append(a['href'])\n",
        "    \n",
        "    for header in s.find_all(\"h3\"):\n",
        "      header_1 = header.text.strip()\n",
        "      \n",
        "      try: \n",
        "        artist1 = header_1.split(' –')[1]\n",
        "        artist1 = header_1.split(' –')[0]\n",
        "        artist.append(artist1)\n",
        "      except:\n",
        "        try:\n",
        "          artist1 = header_1.split(' -')[1]\n",
        "          artist1 = header_1.split(' -')[0]\n",
        "          artist.append(artist1)\n",
        "        except:\n",
        "          artist.append(header_1)\n",
        "\n",
        "      try: \n",
        "        album1 = header_1.split('\\'')[1]\n",
        "        album2 = album1.split('\\'')[0]\n",
        "        album.append(album2)\n",
        "      except:\n",
        "        try:\n",
        "          album1 = header_1.split('‘')[1]\n",
        "          album2 = album1.split('’')[0]\n",
        "          album.append(album2)\n",
        "        except:\n",
        "          album.append(header_1)\n",
        "\n",
        "artist = [a.replace('Album Review: ', '') for a in artist]\n",
        "new_table = pd.DataFrame({'href': href,'artist': artist,'album': album})\n",
        "\n",
        "master_table_nme = master_table_nme.append(new_table)"
      ],
      "execution_count": 0,
      "outputs": []
    },
    {
      "cell_type": "code",
      "metadata": {
        "id": "yOhye95qmqh0",
        "colab_type": "code",
        "colab": {}
      },
      "source": [
        "###scrape webpage for album review text\n",
        "review_text = []\n",
        "\n",
        "for i in range(0,4650):\n",
        "  \n",
        "  href = master_table_nme.iloc[i][0]\n",
        "  page = requests.get(href)\n",
        "\n",
        "  if not page:\n",
        "    review_text.append(\"NULL\")\n",
        "\n",
        "  else: \n",
        "    soup = BeautifulSoup(page.text, 'html.parser').find_all('p')   \n",
        "    sentences = []\n",
        "    for p in soup:\n",
        "        if p.text:\n",
        "          para = str(p.text.strip())\n",
        "          if para.startswith(\"window\"):\n",
        "            pass\n",
        "          elif para.startswith(\"Release\"):\n",
        "            pass\n",
        "          elif para.startswith(\"Record\"):\n",
        "            pass\n",
        "          else:\n",
        "            sentences.append(para)\n",
        "  \n",
        "  review_text.append(' '.join(sentences))"
      ],
      "execution_count": 0,
      "outputs": []
    },
    {
      "cell_type": "code",
      "metadata": {
        "id": "Pcw_vEPxrCsW",
        "colab_type": "code",
        "colab": {}
      },
      "source": [
        "master_table_nme = master_table_nme.assign(review_text=review_text)"
      ],
      "execution_count": 0,
      "outputs": []
    },
    {
      "cell_type": "code",
      "metadata": {
        "id": "FbqBACOOrQoK",
        "colab_type": "code",
        "outputId": "8d163eab-c934-4de2-af96-df61bef85f81",
        "colab": {
          "base_uri": "https://localhost:8080/",
          "height": 34
        }
      },
      "source": [
        "#combine\n",
        "#master_table = master_table_pitchfork.append(master_table_nme)\n",
        "print(len(master_table))\n"
      ],
      "execution_count": 0,
      "outputs": [
        {
          "output_type": "stream",
          "text": [
            "16638\n"
          ],
          "name": "stdout"
        }
      ]
    },
    {
      "cell_type": "code",
      "metadata": {
        "id": "W85No1mY410F",
        "colab_type": "code",
        "colab": {}
      },
      "source": [
        "#pickle\n",
        "outfile = open('album_corpus','wb')\n",
        "pickle.dump(master_table,outfile)\n",
        "outfile.close()"
      ],
      "execution_count": 0,
      "outputs": []
    }
  ]
}